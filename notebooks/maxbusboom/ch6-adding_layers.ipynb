{
 "cells": [
  {
   "cell_type": "code",
   "execution_count": 1,
   "metadata": {},
   "outputs": [],
   "source": [
    "import numpy as np"
   ]
  },
  {
   "cell_type": "code",
   "execution_count": 5,
   "metadata": {},
   "outputs": [
    {
     "name": "stdout",
     "output_type": "stream",
     "text": [
      "[[ 4.8    1.21   2.385]\n",
      " [ 8.9   -1.81   0.2  ]\n",
      " [ 1.41   1.051  0.026]]\n",
      "[[9.222   6.323   4.51855]\n",
      " [8.8429  4.5646  3.7113 ]\n",
      " [6.72825 4.5411  1.36033]]\n"
     ]
    }
   ],
   "source": [
    "inputs1 = [\n",
    "    [1.0,2.0,3.0,2.5],\n",
    "    [2.0,5.0,-1.0,2.0],\n",
    "    [-1.5, 2.7, 3.3, -0.8]\n",
    "]\n",
    "\n",
    "weights1 = [\n",
    "    [0.2, 0.8, -0.5, 1.0],\n",
    "    [0.5, -0.91, 0.26, -0.5],\n",
    "    [-0.26, -0.27, 0.17, 0.87]\n",
    "]\n",
    "biases1 = [2.0, 3.0, 0.5]\n",
    "\n",
    "inputs2 = [\n",
    "    [9, 8, 7,25, 6.3],\n",
    "    [5.4, 4.5, 3.2, 2.1],\n",
    "    [1.2, 2.3, 3.4, 4.5]\n",
    "]\n",
    "\n",
    "weights2 = [\n",
    "    [0.35, 0.21, 0.54],\n",
    "    [0.12, 0.34, 0.56],\n",
    "    [0.36, 0.17, 0.81]\n",
    "]\n",
    "\n",
    "biases2 = [6, 4, 0.653]\n",
    "outputs1 = np.dot(inputs1, np.array(weights1).T) + biases1\n",
    "print(outputs1)\n",
    "outputs2 = np.dot(outputs1,np.array(weights2).T) + biases2\n",
    "\n",
    "print(outputs2)"
   ]
  },
  {
   "cell_type": "code",
   "execution_count": null,
   "metadata": {},
   "outputs": [],
   "source": []
  }
 ],
 "metadata": {
  "kernelspec": {
   "display_name": ".venv",
   "language": "python",
   "name": "python3"
  },
  "language_info": {
   "codemirror_mode": {
    "name": "ipython",
    "version": 3
   },
   "file_extension": ".py",
   "mimetype": "text/x-python",
   "name": "python",
   "nbconvert_exporter": "python",
   "pygments_lexer": "ipython3",
   "version": "3.13.3"
  }
 },
 "nbformat": 4,
 "nbformat_minor": 2
}
